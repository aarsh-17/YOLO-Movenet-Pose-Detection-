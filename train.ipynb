{
 "cells": [
  {
   "cell_type": "code",
   "execution_count": null,
   "id": "7843dc23",
   "metadata": {},
   "outputs": [],
   "source": [
    "import os\n",
    "import cv2\n",
    "from pycocotools.coco import COCO\n",
    "from tqdm import tqdm\n",
    "\n",
    "def coco_to_yolo(coco_json, img_dir, output_dir):\n",
    "    os.makedirs(output_dir + \"/images/train\", exist_ok=True)\n",
    "    os.makedirs(output_dir + \"/labels/train\", exist_ok=True)\n",
    "\n",
    "    coco = COCO(coco_json)\n",
    "    person_cat_id = coco.getCatIds(catNms=['person'])\n",
    "    img_ids = coco.getImgIds(catIds=person_cat_id)\n",
    "\n",
    "    for img_id in tqdm(img_ids, desc=\"Converting COCO to YOLO\"):\n",
    "        img_info = coco.loadImgs(img_id)[0]\n",
    "        ann_ids = coco.getAnnIds(imgIds=img_id, catIds=person_cat_id)\n",
    "        anns = coco.loadAnns(ann_ids)\n",
    "\n",
    "        img_path = os.path.join(img_dir, img_info[\"file_name\"])\n",
    "        if not os.path.exists(img_path):\n",
    "            continue\n",
    "\n",
    "        img = cv2.imread(img_path)\n",
    "        h, w, _ = img.shape\n",
    "        out_img_path = os.path.join(output_dir, \"images/train\", img_info[\"file_name\"])\n",
    "        cv2.imwrite(out_img_path, img)\n",
    "\n",
    "        label_path = os.path.join(output_dir, \"labels/train\", img_info[\"file_name\"].replace(\".jpg\", \".txt\"))\n",
    "        with open(label_path, \"w\") as f:\n",
    "            for ann in anns:\n",
    "                x, y, bw, bh = ann[\"bbox\"]\n",
    "                x_center = (x + bw / 2) / w\n",
    "                y_center = (y + bh / 2) / h\n",
    "                bw /= w\n",
    "                bh /= h\n",
    "                f.write(f\"0 {x_center} {y_center} {bw} {bh}\\n\")\n",
    "\n",
    "# Run this once to prepare your dataset\n",
    "\n"
   ]
  },
  {
   "cell_type": "code",
   "execution_count": 2,
   "id": "7444e1e0",
   "metadata": {},
   "outputs": [
    {
     "name": "stdout",
     "output_type": "stream",
     "text": [
      "loading annotations into memory...\n"
     ]
    },
    {
     "ename": "FileNotFoundError",
     "evalue": "[Errno 2] No such file or directory: 'annotations/instances_train2017.json'",
     "output_type": "error",
     "traceback": [
      "\u001b[31m---------------------------------------------------------------------------\u001b[39m",
      "\u001b[31mFileNotFoundError\u001b[39m                         Traceback (most recent call last)",
      "\u001b[36mCell\u001b[39m\u001b[36m \u001b[39m\u001b[32mIn[2]\u001b[39m\u001b[32m, line 1\u001b[39m\n\u001b[32m----> \u001b[39m\u001b[32m1\u001b[39m \u001b[43mcoco_to_yolo\u001b[49m\u001b[43m(\u001b[49m\u001b[33;43m\"\u001b[39;49m\u001b[33;43mannotations/instances_train2017.json\u001b[39;49m\u001b[33;43m\"\u001b[39;49m\u001b[43m,\u001b[49m\u001b[43m \u001b[49m\u001b[33;43m\"\u001b[39;49m\u001b[33;43mtrain2017\u001b[39;49m\u001b[33;43m\"\u001b[39;49m\u001b[43m,\u001b[49m\u001b[43m \u001b[49m\u001b[33;43m\"\u001b[39;49m\u001b[33;43mdatasets/person\u001b[39;49m\u001b[33;43m\"\u001b[39;49m\u001b[43m)\u001b[49m\n",
      "\u001b[36mCell\u001b[39m\u001b[36m \u001b[39m\u001b[32mIn[1]\u001b[39m\u001b[32m, line 10\u001b[39m, in \u001b[36mcoco_to_yolo\u001b[39m\u001b[34m(coco_json, img_dir, output_dir)\u001b[39m\n\u001b[32m      7\u001b[39m os.makedirs(output_dir + \u001b[33m\"\u001b[39m\u001b[33m/images/train\u001b[39m\u001b[33m\"\u001b[39m, exist_ok=\u001b[38;5;28;01mTrue\u001b[39;00m)\n\u001b[32m      8\u001b[39m os.makedirs(output_dir + \u001b[33m\"\u001b[39m\u001b[33m/labels/train\u001b[39m\u001b[33m\"\u001b[39m, exist_ok=\u001b[38;5;28;01mTrue\u001b[39;00m)\n\u001b[32m---> \u001b[39m\u001b[32m10\u001b[39m coco = \u001b[43mCOCO\u001b[49m\u001b[43m(\u001b[49m\u001b[43mcoco_json\u001b[49m\u001b[43m)\u001b[49m\n\u001b[32m     11\u001b[39m person_cat_id = coco.getCatIds(catNms=[\u001b[33m'\u001b[39m\u001b[33mperson\u001b[39m\u001b[33m'\u001b[39m])\n\u001b[32m     12\u001b[39m img_ids = coco.getImgIds(catIds=person_cat_id)\n",
      "\u001b[36mFile \u001b[39m\u001b[32mc:\\Users\\Lenovo\\Downloads\\YOLO pose detection\\posture_venv\\Lib\\site-packages\\pycocotools\\coco.py:81\u001b[39m, in \u001b[36mCOCO.__init__\u001b[39m\u001b[34m(self, annotation_file)\u001b[39m\n\u001b[32m     79\u001b[39m \u001b[38;5;28mprint\u001b[39m(\u001b[33m'\u001b[39m\u001b[33mloading annotations into memory...\u001b[39m\u001b[33m'\u001b[39m)\n\u001b[32m     80\u001b[39m tic = time.time()\n\u001b[32m---> \u001b[39m\u001b[32m81\u001b[39m \u001b[38;5;28;01mwith\u001b[39;00m \u001b[38;5;28;43mopen\u001b[39;49m\u001b[43m(\u001b[49m\u001b[43mannotation_file\u001b[49m\u001b[43m,\u001b[49m\u001b[43m \u001b[49m\u001b[33;43m'\u001b[39;49m\u001b[33;43mr\u001b[39;49m\u001b[33;43m'\u001b[39;49m\u001b[43m)\u001b[49m \u001b[38;5;28;01mas\u001b[39;00m f:\n\u001b[32m     82\u001b[39m     dataset = json.load(f)\n\u001b[32m     83\u001b[39m \u001b[38;5;28;01massert\u001b[39;00m \u001b[38;5;28mtype\u001b[39m(dataset)==\u001b[38;5;28mdict\u001b[39m, \u001b[33m'\u001b[39m\u001b[33mannotation file format \u001b[39m\u001b[38;5;132;01m{}\u001b[39;00m\u001b[33m not supported\u001b[39m\u001b[33m'\u001b[39m.format(\u001b[38;5;28mtype\u001b[39m(dataset))\n",
      "\u001b[31mFileNotFoundError\u001b[39m: [Errno 2] No such file or directory: 'annotations/instances_train2017.json'"
     ]
    }
   ],
   "source": [
    "coco_to_yolo(\"annotations/instances_train2017.json\", \"train2017\", \"datasets/person\")"
   ]
  }
 ],
 "metadata": {
  "kernelspec": {
   "display_name": "posture_venv",
   "language": "python",
   "name": "python3"
  },
  "language_info": {
   "codemirror_mode": {
    "name": "ipython",
    "version": 3
   },
   "file_extension": ".py",
   "mimetype": "text/x-python",
   "name": "python",
   "nbconvert_exporter": "python",
   "pygments_lexer": "ipython3",
   "version": "3.11.0"
  }
 },
 "nbformat": 4,
 "nbformat_minor": 5
}
